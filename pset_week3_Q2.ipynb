{
 "cells": [
  {
   "cell_type": "markdown",
   "metadata": {
    "colab_type": "text",
    "id": "acMXRBMpIkia"
   },
   "source": [
    "**Notebook Setup on Collab**\n",
    "\n",
    "Before starting we need to give this notebook access to the git repository.\n",
    "\n",
    "Use the left sidebar to upload a private key and name the file \"id_rsa_REPO_NAME\" (replacing REPO_NAME with the Github repository name). If you've not yet generated a key, you can do so with the command `ssh-keygen -f id_rsa_REPO_NAME -q -N \"\"` in a terminal (if you don't have access to a terminal you can run the command directly in this notebook by preceding it with a `!`). Save a copy of your private key, you will need to upload it again every time Google shuts down your session. The corresponding public key should be added as a \"deploy key\" to the repository (under the repo settings on Github).\n",
    "\n",
    "You should treat these private keys as disposable passwords to your Github repo. Do not reuse keys between repos (but it may be convienient to share them with trusted collaborators). Keys should be added in the repo-specific settings, not on the global settings for your account."
   ]
  },
  {
   "cell_type": "code",
   "execution_count": 2,
   "metadata": {
    "colab": {},
    "colab_type": "code",
    "id": "h9VhqH4tOojH"
   },
   "outputs": [],
   "source": [
    "# Set your repository name here.\n",
    "REPO_NAME = \"friedmann-kiyo-masui\"\n",
    "ORG_NAME = \"mit-8-942-2020\""
   ]
  },
  {
   "cell_type": "code",
   "execution_count": null,
   "metadata": {
    "colab": {},
    "colab_type": "code",
    "id": "YfcSDPwKNwzG"
   },
   "outputs": [],
   "source": [
    "# This handy cell generates a new key pair and downloads them, should you need it.\n",
    "from os import path\n",
    "keyfile = \"/content/id_rsa_%s\" % REPO_NAME\n",
    "if not path.exists(keyfile):\n",
    "    !ssh-keygen -f {keyfile} -q -N \"\"\n",
    "    print(\"Add this deploy key to repo:\")\n",
    "    !cat {keyfile}.pub\n",
    "    from google.colab import files\n",
    "    files.download(keyfile)\n",
    "    files.download(keyfile + \".pub\")"
   ]
  },
  {
   "cell_type": "code",
   "execution_count": null,
   "metadata": {
    "colab": {},
    "colab_type": "code",
    "id": "trnGLH7YDWet"
   },
   "outputs": [],
   "source": [
    "# This is some basic setup of the authentication proceedure.\n",
    "!chmod 600 id_rsa_{REPO_NAME}\n",
    "%env GIT_SSH_COMMAND=ssh -i /content/id_rsa_{REPO_NAME} -o IdentitiesOnly=yes -F /dev/null -o StrictHostKeyChecking=no\n",
    "# Clone (download) the repo.\n",
    "!git clone git@github.com:{ORG_NAME}/{REPO_NAME}.git\n",
    "# Enter the repo directory and install the software, including dependecies.\n",
    "%cd {REPO_NAME}\n",
    "!pip install ."
   ]
  },
  {
   "cell_type": "markdown",
   "metadata": {
    "colab_type": "text",
    "id": "3c9897ouMgck"
   },
   "source": [
    "After the above, the code should be all set up. You can now import and use it, interact with the repo using git, and run the tests."
   ]
  },
  {
   "cell_type": "code",
   "execution_count": 2,
   "metadata": {
    "colab": {},
    "colab_type": "code",
    "id": "H9YKPIp5H-XI"
   },
   "outputs": [
    {
     "data": {
      "text/plain": [
       "<module 'friedmann.integrators' from '/Users/kiyo/working/friedmann_integrator_assignment/friedmann/integrators.py'>"
      ]
     },
     "execution_count": 2,
     "metadata": {},
     "output_type": "execute_result"
    }
   ],
   "source": [
    "# This sets how figures will be displayed.\n",
    "%matplotlib inline\n",
    "\n",
    "# Import libraries we will use\n",
    "import numpy as np\n",
    "import matplotlib.pyplot as plt\n",
    "\n",
    "from friedmann import integrators\n",
    "# After pulling a new version of the code you need to reload it.\n",
    "import importlib\n",
    "importlib.reload(integrators)"
   ]
  },
  {
   "cell_type": "code",
   "execution_count": 3,
   "metadata": {
    "colab": {},
    "colab_type": "code",
    "id": "s3XmUE62H_P6"
   },
   "outputs": [],
   "source": [
    "integ = integrators.CumulativeSumIntegrator(0, 1., 70.) "
   ]
  },
  {
   "cell_type": "code",
   "execution_count": 8,
   "metadata": {
    "colab": {},
    "colab_type": "code",
    "id": "yjI2fwfDIDaO"
   },
   "outputs": [
    {
     "data": {
      "text/plain": [
       "Text(0, 0.5, 'Distance (Mpc)')"
      ]
     },
     "execution_count": 8,
     "metadata": {},
     "output_type": "execute_result"
    },
    {
     "data": {
      "image/png": "[encoded data removed]",
      "text/plain": [
       "<Figure size 432x288 with 1 Axes>"
      ]
     },
     "metadata": {
      "needs_background": "light"
     },
     "output_type": "display_data"
    }
   ],
   "source": [
    "plt.figure()\n",
    "plt.loglog(integ.z, integ.comoving_distance, label=\"Comoving distance\")\n",
    "plt.title(\"Matter Domination with H0 = 70 km/s/Mpc\")\n",
    "plt.xlim(0.1, 1e5)\n",
    "plt.ylim(200, 1e4)\n",
    "plt.xlabel(\"Redshift z\")\n",
    "plt.ylabel(\"Distance (Mpc)\")"
   ]
  },
  {
   "cell_type": "code",
   "execution_count": null,
   "metadata": {
    "colab": {},
    "colab_type": "code",
    "id": "r-CU_KC9OkWe"
   },
   "outputs": [],
   "source": []
  }
 ],
 "metadata": {
  "colab": {
   "authorship_tag": "ABX9TyO+iod/iJZYUiZpjujaGHTj",
   "include_colab_link": true,
   "name": "environment-setup.ipynb",
   "provenance": []
  },
  "kernelspec": {
   "display_name": "Python 3",
   "language": "python",
   "name": "python3"
  },
  "language_info": {
   "codemirror_mode": {
    "name": "ipython",
    "version": 3
   },
   "file_extension": ".py",
   "mimetype": "text/x-python",
   "name": "python",
   "nbconvert_exporter": "python",
   "pygments_lexer": "ipython3",
   "version": "3.7.7"
  }
 },
 "nbformat": 4,
 "nbformat_minor": 1
}
